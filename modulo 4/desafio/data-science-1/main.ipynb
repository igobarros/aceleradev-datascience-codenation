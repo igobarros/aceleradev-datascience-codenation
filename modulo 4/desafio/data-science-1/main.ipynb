{
 "cells": [
  {
   "cell_type": "markdown",
   "metadata": {},
   "source": [
    "# Desafio 3\n",
    "\n",
    "Neste desafio, iremos praticar nossos conhecimentos sobre distribuições de probabilidade. Para isso,\n",
    "dividiremos este desafio em duas partes:\n",
    "    \n",
    "1. A primeira parte contará com 3 questões sobre um *data set* artificial com dados de uma amostra normal e\n",
    "    uma binomial.\n",
    "2. A segunda parte será sobre a análise da distribuição de uma variável do _data set_ [Pulsar Star](https://archive.ics.uci.edu/ml/datasets/HTRU2), contendo 2 questões.\n",
    "\n",
    "> Obs.: Por favor, não modifique o nome das funções de resposta."
   ]
  },
  {
   "cell_type": "markdown",
   "metadata": {},
   "source": [
    "## _Setup_ geral"
   ]
  },
  {
   "cell_type": "code",
   "execution_count": 1,
   "metadata": {},
   "outputs": [],
   "source": [
    "import pandas as pd\n",
    "import matplotlib.pyplot as plt\n",
    "import numpy as np\n",
    "import scipy.stats as sct\n",
    "import seaborn as sns\n",
    "from statsmodels.distributions.empirical_distribution import ECDF"
   ]
  },
  {
   "cell_type": "code",
   "execution_count": 2,
   "metadata": {},
   "outputs": [],
   "source": [
    "#%matplotlib inline\n",
    "\n",
    "from IPython.core.pylabtools import figsize\n",
    "\n",
    "\n",
    "figsize(12, 8)\n",
    "\n",
    "sns.set()"
   ]
  },
  {
   "cell_type": "markdown",
   "metadata": {},
   "source": [
    "## Parte 1"
   ]
  },
  {
   "cell_type": "markdown",
   "metadata": {},
   "source": [
    "### _Setup_ da parte 1"
   ]
  },
  {
   "cell_type": "code",
   "execution_count": 3,
   "metadata": {},
   "outputs": [],
   "source": [
    "np.random.seed(42)\n",
    "    \n",
    "dataframe = pd.DataFrame({\"normal\": sct.norm.rvs(20, 4, size=10000),\n",
    "                     \"binomial\": sct.binom.rvs(100, 0.2, size=10000)})"
   ]
  },
  {
   "cell_type": "markdown",
   "metadata": {},
   "source": [
    "## Inicie sua análise a partir da parte 1 a partir daqui"
   ]
  },
  {
   "cell_type": "code",
   "execution_count": 4,
   "metadata": {},
   "outputs": [
    {
     "data": {
      "text/html": [
       "<div>\n",
       "<style scoped>\n",
       "    .dataframe tbody tr th:only-of-type {\n",
       "        vertical-align: middle;\n",
       "    }\n",
       "\n",
       "    .dataframe tbody tr th {\n",
       "        vertical-align: top;\n",
       "    }\n",
       "\n",
       "    .dataframe thead th {\n",
       "        text-align: right;\n",
       "    }\n",
       "</style>\n",
       "<table border=\"1\" class=\"dataframe\">\n",
       "  <thead>\n",
       "    <tr style=\"text-align: right;\">\n",
       "      <th></th>\n",
       "      <th>count</th>\n",
       "      <th>mean</th>\n",
       "      <th>std</th>\n",
       "      <th>min</th>\n",
       "      <th>25%</th>\n",
       "      <th>50%</th>\n",
       "      <th>75%</th>\n",
       "      <th>max</th>\n",
       "    </tr>\n",
       "  </thead>\n",
       "  <tbody>\n",
       "    <tr>\n",
       "      <th>normal</th>\n",
       "      <td>10000.0</td>\n",
       "      <td>19.991456</td>\n",
       "      <td>4.013850</td>\n",
       "      <td>4.310399</td>\n",
       "      <td>17.309638</td>\n",
       "      <td>19.98962</td>\n",
       "      <td>22.684324</td>\n",
       "      <td>35.704951</td>\n",
       "    </tr>\n",
       "    <tr>\n",
       "      <th>binomial</th>\n",
       "      <td>10000.0</td>\n",
       "      <td>20.097000</td>\n",
       "      <td>4.041191</td>\n",
       "      <td>6.000000</td>\n",
       "      <td>17.000000</td>\n",
       "      <td>20.00000</td>\n",
       "      <td>23.000000</td>\n",
       "      <td>36.000000</td>\n",
       "    </tr>\n",
       "  </tbody>\n",
       "</table>\n",
       "</div>"
      ],
      "text/plain": [
       "            count       mean       std       min        25%       50%  \\\n",
       "normal    10000.0  19.991456  4.013850  4.310399  17.309638  19.98962   \n",
       "binomial  10000.0  20.097000  4.041191  6.000000  17.000000  20.00000   \n",
       "\n",
       "                75%        max  \n",
       "normal    22.684324  35.704951  \n",
       "binomial  23.000000  36.000000  "
      ]
     },
     "execution_count": 4,
     "metadata": {},
     "output_type": "execute_result"
    }
   ],
   "source": [
    "dataframe.describe().T"
   ]
  },
  {
   "cell_type": "code",
   "execution_count": 5,
   "metadata": {},
   "outputs": [],
   "source": [
    "norm = dataframe['normal']\n",
    "binom = dataframe['binomial']"
   ]
  },
  {
   "cell_type": "code",
   "execution_count": 6,
   "metadata": {},
   "outputs": [],
   "source": [
    "infos = pd.DataFrame(data={\n",
    "    'normal': [\n",
    "        norm.mode()[0]\n",
    "        , norm.mean()\n",
    "        , norm.median()\n",
    "    ],\n",
    "    \n",
    "    'binomial': [\n",
    "        binom.mode()[0]\n",
    "        , binom.mean()\n",
    "        , binom.median()\n",
    "    ]\n",
    "}, index=['Moda', 'Media', 'Mediana'])"
   ]
  },
  {
   "cell_type": "code",
   "execution_count": 7,
   "metadata": {},
   "outputs": [
    {
     "data": {
      "text/html": [
       "<div>\n",
       "<style scoped>\n",
       "    .dataframe tbody tr th:only-of-type {\n",
       "        vertical-align: middle;\n",
       "    }\n",
       "\n",
       "    .dataframe tbody tr th {\n",
       "        vertical-align: top;\n",
       "    }\n",
       "\n",
       "    .dataframe thead th {\n",
       "        text-align: right;\n",
       "    }\n",
       "</style>\n",
       "<table border=\"1\" class=\"dataframe\">\n",
       "  <thead>\n",
       "    <tr style=\"text-align: right;\">\n",
       "      <th></th>\n",
       "      <th>normal</th>\n",
       "      <th>binomial</th>\n",
       "    </tr>\n",
       "  </thead>\n",
       "  <tbody>\n",
       "    <tr>\n",
       "      <th>Moda</th>\n",
       "      <td>4.310399</td>\n",
       "      <td>20.000</td>\n",
       "    </tr>\n",
       "    <tr>\n",
       "      <th>Media</th>\n",
       "      <td>19.991456</td>\n",
       "      <td>20.097</td>\n",
       "    </tr>\n",
       "    <tr>\n",
       "      <th>Mediana</th>\n",
       "      <td>19.989620</td>\n",
       "      <td>20.000</td>\n",
       "    </tr>\n",
       "  </tbody>\n",
       "</table>\n",
       "</div>"
      ],
      "text/plain": [
       "            normal  binomial\n",
       "Moda      4.310399    20.000\n",
       "Media    19.991456    20.097\n",
       "Mediana  19.989620    20.000"
      ]
     },
     "execution_count": 7,
     "metadata": {},
     "output_type": "execute_result"
    }
   ],
   "source": [
    "infos"
   ]
  },
  {
   "cell_type": "code",
   "execution_count": 8,
   "metadata": {},
   "outputs": [],
   "source": [
    "#fig = plt.figure()\n",
    "\n",
    "#ax1 = fig.add_subplot(221)\n",
    "#ax2 = fig.add_subplot(222)\n",
    "\n",
    "#sns.distplot(norm, ax=ax1)\n",
    "#ax1.set_title('Distribuição normal')\n",
    "\n",
    "#sns.distplot(binom, ax=ax2)\n",
    "#ax2.set_title('Distribuição binomial')\n",
    "\n",
    "#plt.show()"
   ]
  },
  {
   "cell_type": "code",
   "execution_count": 9,
   "metadata": {},
   "outputs": [],
   "source": [
    "#fig2 = plt.figure()\n",
    "\n",
    "#ax3 = fig2.add_subplot(221)\n",
    "#ax4 = fig2.add_subplot(222)\n",
    "\n",
    "#ec_no = ECDF(norm)\n",
    "#norm_cdf = ec_no(norm)\n",
    "\n",
    "#ec_bi = ECDF(binom)\n",
    "#binom_cdf = ec_bi(binom)\n",
    "\n",
    "#sns.lineplot(norm, norm_cdf, ax=ax3)\n",
    "#ax3.set_title('CDF - Distribuição Normal')\n",
    "\n",
    "#sns.lineplot(binom, binom_cdf, ax=ax4)\n",
    "#ax4.set_title('CDF - Distribuição Binomial')\n",
    "\n",
    "#plt.show()"
   ]
  },
  {
   "cell_type": "markdown",
   "metadata": {},
   "source": [
    "## Questão 1\n",
    "\n",
    "Qual a diferença entre os quartis (Q1, Q2 e Q3) das variáveis `normal` e `binomial` de `dataframe`? Responda como uma tupla de três elementos arredondados para três casas decimais.\n",
    "\n",
    "Em outra palavras, sejam `q1_norm`, `q2_norm` e `q3_norm` os quantis da variável `normal` e `q1_binom`, `q2_binom` e `q3_binom` os quantis da variável `binom`, qual a diferença `(q1_norm - q1 binom, q2_norm - q2_binom, q3_norm - q3_binom)`?"
   ]
  },
  {
   "cell_type": "code",
   "execution_count": 10,
   "metadata": {},
   "outputs": [],
   "source": [
    "q1_norm = (norm.quantile(q=.25) - binom.quantile(q=.25)).round(3)\n",
    "q2_norm = (norm.quantile(q=.5) - binom.quantile(q=.5)).round(3)\n",
    "q3_norm = (norm.quantile(q=.75) - binom.quantile(q=.75)).round(3)"
   ]
  },
  {
   "cell_type": "code",
   "execution_count": 11,
   "metadata": {},
   "outputs": [
    {
     "data": {
      "text/plain": [
       "(0.31, -0.01, -0.316)"
      ]
     },
     "execution_count": 11,
     "metadata": {},
     "output_type": "execute_result"
    }
   ],
   "source": [
    "def q1():\n",
    "    return (q1_norm, q2_norm, q3_norm)\n",
    "q1()"
   ]
  },
  {
   "cell_type": "markdown",
   "metadata": {},
   "source": [
    "Para refletir:\n",
    "\n",
    "* Você esperava valores dessa magnitude?\n",
    "\n",
    "* Você é capaz de explicar como distribuições aparentemente tão diferentes (discreta e contínua, por exemplo) conseguem dar esses valores?"
   ]
  },
  {
   "cell_type": "markdown",
   "metadata": {},
   "source": [
    "## Questão 2\n",
    "\n",
    "Considere o intervalo $[\\bar{x} - s, \\bar{x} + s]$, onde $\\bar{x}$ é a média amostral e $s$ é o desvio padrão. Qual a probabilidade nesse intervalo, calculada pela função de distribuição acumulada empírica (CDF empírica) da variável `normal`? Responda como uma único escalar arredondado para três casas decimais."
   ]
  },
  {
   "cell_type": "code",
   "execution_count": 12,
   "metadata": {},
   "outputs": [],
   "source": [
    "ecdf = ECDF(norm)\n",
    "t1 = ecdf((norm.mean() + norm.std()))\n",
    "t2 = ecdf((norm.mean() - norm.std()))"
   ]
  },
  {
   "cell_type": "code",
   "execution_count": 13,
   "metadata": {},
   "outputs": [
    {
     "data": {
      "text/plain": [
       "0.684"
      ]
     },
     "execution_count": 13,
     "metadata": {},
     "output_type": "execute_result"
    }
   ],
   "source": [
    "def q2():\n",
    "    return float(np.round((t1 - t2), 3))\n",
    "q2()"
   ]
  },
  {
   "cell_type": "markdown",
   "metadata": {},
   "source": [
    "Para refletir:\n",
    "\n",
    "* Esse valor se aproxima do esperado teórico?\n",
    "* Experimente também para os intervalos $[\\bar{x} - 2s, \\bar{x} + 2s]$ e $[\\bar{x} - 3s, \\bar{x} + 3s]$."
   ]
  },
  {
   "cell_type": "code",
   "execution_count": 14,
   "metadata": {},
   "outputs": [
    {
     "data": {
      "text/plain": [
       "(0.954, 0.997)"
      ]
     },
     "execution_count": 14,
     "metadata": {},
     "output_type": "execute_result"
    }
   ],
   "source": [
    "ecdf = ECDF(norm)\n",
    "\n",
    "t3 = ecdf((norm.mean() + 2 * norm.std()))\n",
    "t4 = ecdf((norm.mean() - 2 * norm.std()))\n",
    "\n",
    "t5 = ecdf((norm.mean() + 3 * norm.std()))\n",
    "t6 = ecdf((norm.mean() - 3 * norm.std()))\n",
    "\n",
    "((t3 - t4).round(3), (t5 - t6).round(3))"
   ]
  },
  {
   "cell_type": "markdown",
   "metadata": {},
   "source": [
    "## Questão 3\n",
    "\n",
    "Qual é a diferença entre as médias e as variâncias das variáveis `binomial` e `normal`? Responda como uma tupla de dois elementos arredondados para três casas decimais.\n",
    "\n",
    "Em outras palavras, sejam `m_binom` e `v_binom` a média e a variância da variável `binomial`, e `m_norm` e `v_norm` a média e a variância da variável `normal`. Quais as diferenças `(m_binom - m_norm, v_binom - v_norm)`?"
   ]
  },
  {
   "cell_type": "code",
   "execution_count": 15,
   "metadata": {},
   "outputs": [],
   "source": [
    "m_norm = norm.mean()\n",
    "v_norm = norm.var()\n",
    "\n",
    "m_binom = binom.mean()\n",
    "v_binom = binom.var()"
   ]
  },
  {
   "cell_type": "code",
   "execution_count": 16,
   "metadata": {},
   "outputs": [
    {
     "data": {
      "text/plain": [
       "(0.106, 0.22)"
      ]
     },
     "execution_count": 16,
     "metadata": {},
     "output_type": "execute_result"
    }
   ],
   "source": [
    "def q3():\n",
    "    return (np.round((m_binom - m_norm), 3), np.round((v_binom - v_norm), 3))\n",
    "q3()"
   ]
  },
  {
   "cell_type": "markdown",
   "metadata": {},
   "source": [
    "Para refletir:\n",
    "\n",
    "* Você esperava valore dessa magnitude?\n",
    "* Qual o efeito de aumentar ou diminuir $n$ (atualmente 100) na distribuição da variável `binomial`?"
   ]
  },
  {
   "cell_type": "markdown",
   "metadata": {},
   "source": [
    "## Parte 2"
   ]
  },
  {
   "cell_type": "markdown",
   "metadata": {},
   "source": [
    "### _Setup_ da parte 2"
   ]
  },
  {
   "cell_type": "code",
   "execution_count": 17,
   "metadata": {},
   "outputs": [],
   "source": [
    "stars = pd.read_csv(\"pulsar_stars.csv\")\n",
    "\n",
    "stars.rename({old_name: new_name\n",
    "              for (old_name, new_name)\n",
    "              in zip(stars.columns,\n",
    "                     [\"mean_profile\", \"sd_profile\", \"kurt_profile\", \"skew_profile\", \"mean_curve\", \"sd_curve\", \"kurt_curve\", \"skew_curve\", \"target\"])\n",
    "             },\n",
    "             axis=1, inplace=True)\n",
    "\n",
    "stars.loc[:, \"target\"] = stars.target.astype(bool)"
   ]
  },
  {
   "cell_type": "markdown",
   "metadata": {},
   "source": [
    "## Inicie sua análise da parte 2 a partir daqui"
   ]
  },
  {
   "cell_type": "code",
   "execution_count": 18,
   "metadata": {},
   "outputs": [
    {
     "data": {
      "text/html": [
       "<div>\n",
       "<style scoped>\n",
       "    .dataframe tbody tr th:only-of-type {\n",
       "        vertical-align: middle;\n",
       "    }\n",
       "\n",
       "    .dataframe tbody tr th {\n",
       "        vertical-align: top;\n",
       "    }\n",
       "\n",
       "    .dataframe thead th {\n",
       "        text-align: right;\n",
       "    }\n",
       "</style>\n",
       "<table border=\"1\" class=\"dataframe\">\n",
       "  <thead>\n",
       "    <tr style=\"text-align: right;\">\n",
       "      <th></th>\n",
       "      <th>mean_profile</th>\n",
       "      <th>sd_profile</th>\n",
       "      <th>kurt_profile</th>\n",
       "      <th>skew_profile</th>\n",
       "      <th>mean_curve</th>\n",
       "      <th>sd_curve</th>\n",
       "      <th>kurt_curve</th>\n",
       "      <th>skew_curve</th>\n",
       "      <th>target</th>\n",
       "    </tr>\n",
       "  </thead>\n",
       "  <tbody>\n",
       "    <tr>\n",
       "      <th>8784</th>\n",
       "      <td>123.781250</td>\n",
       "      <td>45.520761</td>\n",
       "      <td>-0.076037</td>\n",
       "      <td>0.272569</td>\n",
       "      <td>2.557692</td>\n",
       "      <td>14.935005</td>\n",
       "      <td>8.649788</td>\n",
       "      <td>98.487529</td>\n",
       "      <td>False</td>\n",
       "    </tr>\n",
       "    <tr>\n",
       "      <th>1651</th>\n",
       "      <td>134.882812</td>\n",
       "      <td>49.553100</td>\n",
       "      <td>-0.067603</td>\n",
       "      <td>-0.160986</td>\n",
       "      <td>2.599498</td>\n",
       "      <td>21.846323</td>\n",
       "      <td>8.993565</td>\n",
       "      <td>83.170078</td>\n",
       "      <td>False</td>\n",
       "    </tr>\n",
       "    <tr>\n",
       "      <th>14681</th>\n",
       "      <td>102.000000</td>\n",
       "      <td>52.109860</td>\n",
       "      <td>0.165017</td>\n",
       "      <td>-0.264777</td>\n",
       "      <td>2.768395</td>\n",
       "      <td>20.167419</td>\n",
       "      <td>7.952246</td>\n",
       "      <td>67.136353</td>\n",
       "      <td>False</td>\n",
       "    </tr>\n",
       "    <tr>\n",
       "      <th>1599</th>\n",
       "      <td>125.085938</td>\n",
       "      <td>48.527703</td>\n",
       "      <td>0.117176</td>\n",
       "      <td>-0.161453</td>\n",
       "      <td>2.931438</td>\n",
       "      <td>15.736925</td>\n",
       "      <td>8.527112</td>\n",
       "      <td>95.270239</td>\n",
       "      <td>False</td>\n",
       "    </tr>\n",
       "    <tr>\n",
       "      <th>11752</th>\n",
       "      <td>101.710938</td>\n",
       "      <td>42.713280</td>\n",
       "      <td>0.461346</td>\n",
       "      <td>0.368982</td>\n",
       "      <td>1.387960</td>\n",
       "      <td>15.472383</td>\n",
       "      <td>12.307970</td>\n",
       "      <td>160.828808</td>\n",
       "      <td>False</td>\n",
       "    </tr>\n",
       "  </tbody>\n",
       "</table>\n",
       "</div>"
      ],
      "text/plain": [
       "       mean_profile  sd_profile  kurt_profile  skew_profile  mean_curve  \\\n",
       "8784     123.781250   45.520761     -0.076037      0.272569    2.557692   \n",
       "1651     134.882812   49.553100     -0.067603     -0.160986    2.599498   \n",
       "14681    102.000000   52.109860      0.165017     -0.264777    2.768395   \n",
       "1599     125.085938   48.527703      0.117176     -0.161453    2.931438   \n",
       "11752    101.710938   42.713280      0.461346      0.368982    1.387960   \n",
       "\n",
       "        sd_curve  kurt_curve  skew_curve  target  \n",
       "8784   14.935005    8.649788   98.487529   False  \n",
       "1651   21.846323    8.993565   83.170078   False  \n",
       "14681  20.167419    7.952246   67.136353   False  \n",
       "1599   15.736925    8.527112   95.270239   False  \n",
       "11752  15.472383   12.307970  160.828808   False  "
      ]
     },
     "execution_count": 18,
     "metadata": {},
     "output_type": "execute_result"
    }
   ],
   "source": [
    "# Sua análise da parte 2 começa aqui.\n",
    "stars.sample(5)"
   ]
  },
  {
   "cell_type": "code",
   "execution_count": 19,
   "metadata": {
    "scrolled": true
   },
   "outputs": [
    {
     "data": {
      "text/html": [
       "<div>\n",
       "<style scoped>\n",
       "    .dataframe tbody tr th:only-of-type {\n",
       "        vertical-align: middle;\n",
       "    }\n",
       "\n",
       "    .dataframe tbody tr th {\n",
       "        vertical-align: top;\n",
       "    }\n",
       "\n",
       "    .dataframe thead th {\n",
       "        text-align: right;\n",
       "    }\n",
       "</style>\n",
       "<table border=\"1\" class=\"dataframe\">\n",
       "  <thead>\n",
       "    <tr style=\"text-align: right;\">\n",
       "      <th></th>\n",
       "      <th>count</th>\n",
       "      <th>mean</th>\n",
       "      <th>std</th>\n",
       "      <th>min</th>\n",
       "      <th>25%</th>\n",
       "      <th>50%</th>\n",
       "      <th>75%</th>\n",
       "      <th>max</th>\n",
       "    </tr>\n",
       "  </thead>\n",
       "  <tbody>\n",
       "    <tr>\n",
       "      <th>mean_profile</th>\n",
       "      <td>17897.0</td>\n",
       "      <td>111.078321</td>\n",
       "      <td>25.652705</td>\n",
       "      <td>5.812500</td>\n",
       "      <td>100.929688</td>\n",
       "      <td>115.078125</td>\n",
       "      <td>127.085938</td>\n",
       "      <td>192.617188</td>\n",
       "    </tr>\n",
       "    <tr>\n",
       "      <th>sd_profile</th>\n",
       "      <td>17897.0</td>\n",
       "      <td>46.549021</td>\n",
       "      <td>6.843040</td>\n",
       "      <td>24.772042</td>\n",
       "      <td>42.375426</td>\n",
       "      <td>46.946435</td>\n",
       "      <td>51.022887</td>\n",
       "      <td>98.778911</td>\n",
       "    </tr>\n",
       "    <tr>\n",
       "      <th>kurt_profile</th>\n",
       "      <td>17897.0</td>\n",
       "      <td>0.477897</td>\n",
       "      <td>1.064056</td>\n",
       "      <td>-1.876011</td>\n",
       "      <td>0.027108</td>\n",
       "      <td>0.223241</td>\n",
       "      <td>0.473349</td>\n",
       "      <td>8.069522</td>\n",
       "    </tr>\n",
       "    <tr>\n",
       "      <th>skew_profile</th>\n",
       "      <td>17897.0</td>\n",
       "      <td>1.770417</td>\n",
       "      <td>6.168058</td>\n",
       "      <td>-1.791886</td>\n",
       "      <td>-0.188528</td>\n",
       "      <td>0.198736</td>\n",
       "      <td>0.928206</td>\n",
       "      <td>68.101622</td>\n",
       "    </tr>\n",
       "    <tr>\n",
       "      <th>mean_curve</th>\n",
       "      <td>17897.0</td>\n",
       "      <td>12.614926</td>\n",
       "      <td>29.473637</td>\n",
       "      <td>0.213211</td>\n",
       "      <td>1.923077</td>\n",
       "      <td>2.801839</td>\n",
       "      <td>5.464883</td>\n",
       "      <td>223.392140</td>\n",
       "    </tr>\n",
       "    <tr>\n",
       "      <th>sd_curve</th>\n",
       "      <td>17897.0</td>\n",
       "      <td>26.326918</td>\n",
       "      <td>19.471042</td>\n",
       "      <td>7.370432</td>\n",
       "      <td>14.437330</td>\n",
       "      <td>18.459977</td>\n",
       "      <td>28.428152</td>\n",
       "      <td>110.642211</td>\n",
       "    </tr>\n",
       "    <tr>\n",
       "      <th>kurt_curve</th>\n",
       "      <td>17897.0</td>\n",
       "      <td>8.303574</td>\n",
       "      <td>4.506217</td>\n",
       "      <td>-3.139270</td>\n",
       "      <td>5.781485</td>\n",
       "      <td>8.433872</td>\n",
       "      <td>10.702973</td>\n",
       "      <td>34.539844</td>\n",
       "    </tr>\n",
       "    <tr>\n",
       "      <th>skew_curve</th>\n",
       "      <td>17897.0</td>\n",
       "      <td>104.859419</td>\n",
       "      <td>106.517270</td>\n",
       "      <td>-1.976976</td>\n",
       "      <td>34.957119</td>\n",
       "      <td>83.068996</td>\n",
       "      <td>139.310905</td>\n",
       "      <td>1191.000837</td>\n",
       "    </tr>\n",
       "  </tbody>\n",
       "</table>\n",
       "</div>"
      ],
      "text/plain": [
       "                count        mean         std        min         25%  \\\n",
       "mean_profile  17897.0  111.078321   25.652705   5.812500  100.929688   \n",
       "sd_profile    17897.0   46.549021    6.843040  24.772042   42.375426   \n",
       "kurt_profile  17897.0    0.477897    1.064056  -1.876011    0.027108   \n",
       "skew_profile  17897.0    1.770417    6.168058  -1.791886   -0.188528   \n",
       "mean_curve    17897.0   12.614926   29.473637   0.213211    1.923077   \n",
       "sd_curve      17897.0   26.326918   19.471042   7.370432   14.437330   \n",
       "kurt_curve    17897.0    8.303574    4.506217  -3.139270    5.781485   \n",
       "skew_curve    17897.0  104.859419  106.517270  -1.976976   34.957119   \n",
       "\n",
       "                     50%         75%          max  \n",
       "mean_profile  115.078125  127.085938   192.617188  \n",
       "sd_profile     46.946435   51.022887    98.778911  \n",
       "kurt_profile    0.223241    0.473349     8.069522  \n",
       "skew_profile    0.198736    0.928206    68.101622  \n",
       "mean_curve      2.801839    5.464883   223.392140  \n",
       "sd_curve       18.459977   28.428152   110.642211  \n",
       "kurt_curve      8.433872   10.702973    34.539844  \n",
       "skew_curve     83.068996  139.310905  1191.000837  "
      ]
     },
     "execution_count": 19,
     "metadata": {},
     "output_type": "execute_result"
    }
   ],
   "source": [
    "stars.describe().T"
   ]
  },
  {
   "cell_type": "markdown",
   "metadata": {},
   "source": [
    "## Questão 4\n",
    "\n",
    "Considerando a variável `mean_profile` de `stars`:\n",
    "\n",
    "1. Filtre apenas os valores de `mean_profile` onde `target == 0` (ou seja, onde a estrela não é um pulsar).\n",
    "2. Padronize a variável `mean_profile` filtrada anteriormente para ter média 0 e variância 1.\n",
    "\n",
    "Chamaremos a variável resultante de `false_pulsar_mean_profile_standardized`.\n",
    "\n",
    "Encontre os quantis teóricos para uma distribuição normal de média 0 e variância 1 para 0.80, 0.90 e 0.95 através da função `norm.ppf()` disponível em `scipy.stats`.\n",
    "\n",
    "Quais as probabilidade associadas a esses quantis utilizando a CDF empírica da variável `false_pulsar_mean_profile_standardized`? Responda como uma tupla de três elementos arredondados para três casas decimais."
   ]
  },
  {
   "cell_type": "code",
   "execution_count": 20,
   "metadata": {},
   "outputs": [],
   "source": [
    "false_pulsar_mean_profile = stars[stars['target'] == False]['mean_profile']\n",
    "false_pulsar_mean_profile_standardized = false_pulsar_mean_profile.apply(lambda x: (x - np.mean(false_pulsar_mean_profile)) / np.std(false_pulsar_mean_profile))"
   ]
  },
  {
   "cell_type": "code",
   "execution_count": 21,
   "metadata": {},
   "outputs": [],
   "source": [
    "qtl80, qtl90, qtl95 = sct.norm.ppf(q=[.8, .9, .95], loc=0, scale=1)"
   ]
  },
  {
   "cell_type": "code",
   "execution_count": 22,
   "metadata": {},
   "outputs": [],
   "source": [
    "ecdf_pulsar = ECDF(false_pulsar_mean_profile_standardized)\n"
   ]
  },
  {
   "cell_type": "code",
   "execution_count": 23,
   "metadata": {},
   "outputs": [
    {
     "data": {
      "text/plain": [
       "(0.806, 0.911, 0.959)"
      ]
     },
     "execution_count": 23,
     "metadata": {},
     "output_type": "execute_result"
    }
   ],
   "source": [
    "def q4():\n",
    "    return (np.round(ecdf_pulsar(qtl80), 3), np.round(ecdf_pulsar(qtl90), 3), np.round(ecdf_pulsar(qtl95), 3))\n",
    "q4()"
   ]
  },
  {
   "cell_type": "markdown",
   "metadata": {},
   "source": [
    "Para refletir:\n",
    "\n",
    "* Os valores encontrados fazem sentido?\n",
    "* O que isso pode dizer sobre a distribuição da variável `false_pulsar_mean_profile_standardized`?"
   ]
  },
  {
   "cell_type": "markdown",
   "metadata": {},
   "source": [
    "## Questão 5\n",
    "\n",
    "Qual a diferença entre os quantis Q1, Q2 e Q3 de `false_pulsar_mean_profile_standardized` e os mesmos quantis teóricos de uma distribuição normal de média 0 e variância 1? Responda como uma tupla de três elementos arredondados para três casas decimais."
   ]
  },
  {
   "cell_type": "code",
   "execution_count": 24,
   "metadata": {},
   "outputs": [],
   "source": [
    "qtl25_scaler, qtl50_scaler, qtl75_scaler = sct.norm.ppf(q=[.25, .5, .75], loc=0, scale=1)\n",
    "qtl25 = np.quantile(a=false_pulsar_mean_profile_standardized, q=.25)\n",
    "qtl50 = np.quantile(a=false_pulsar_mean_profile_standardized, q=.5)\n",
    "qtl75 = np.quantile(a=false_pulsar_mean_profile_standardized, q=.75)"
   ]
  },
  {
   "cell_type": "code",
   "execution_count": 25,
   "metadata": {},
   "outputs": [
    {
     "data": {
      "text/plain": [
       "(0.027, 0.04, -0.004)"
      ]
     },
     "execution_count": 25,
     "metadata": {},
     "output_type": "execute_result"
    }
   ],
   "source": [
    "def q5():\n",
    "    return (np.round((qtl25 - qtl25_scaler), 3), np.round((qtl50 - qtl50_scaler), 3), np.round((qtl75 - qtl75_scaler), 3))\n",
    "q5()"
   ]
  },
  {
   "cell_type": "markdown",
   "metadata": {},
   "source": [
    "Para refletir:\n",
    "\n",
    "* Os valores encontrados fazem sentido?\n",
    "* O que isso pode dizer sobre a distribuição da variável `false_pulsar_mean_profile_standardized`?\n",
    "* Curiosidade: alguns testes de hipóteses sobre normalidade dos dados utilizam essa mesma abordagem."
   ]
  }
 ],
 "metadata": {
  "kernelspec": {
   "display_name": "Python 3",
   "language": "python",
   "name": "python3"
  },
  "language_info": {
   "codemirror_mode": {
    "name": "ipython",
    "version": 3
   },
   "file_extension": ".py",
   "mimetype": "text/x-python",
   "name": "python",
   "nbconvert_exporter": "python",
   "pygments_lexer": "ipython3",
   "version": "3.6.9"
  }
 },
 "nbformat": 4,
 "nbformat_minor": 2
}
